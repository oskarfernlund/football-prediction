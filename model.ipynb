{
 "cells": [
  {
   "attachments": {},
   "cell_type": "markdown",
   "id": "6220d009",
   "metadata": {},
   "source": [
    "# Football Prediction\n",
    "---\n",
    "\n",
    "Description of task.\n",
    "\n",
    "### Imports and Dependencies\n",
    "---\n",
    "\n",
    "Bing bong."
   ]
  },
  {
   "cell_type": "code",
   "execution_count": 58,
   "id": "89bb0cb2",
   "metadata": {},
   "outputs": [],
   "source": [
    "import numpy as np\n",
    "import pandas as pd\n",
    "import gpflow as gpf\n",
    "import tensorflow as tf\n",
    "import matplotlib.pyplot as plt\n",
    "\n",
    "from gpflow.kernels import Matern52, SquaredExponential\n",
    "from gpflow.likelihoods import Poisson\n",
    "from gpflow.models import SVGP\n",
    "from gpflow.optimizers import Scipy\n",
    "\n",
    "from src.plotting import plot_feature_distributions"
   ]
  },
  {
   "attachments": {},
   "cell_type": "markdown",
   "id": "6edc5a56",
   "metadata": {},
   "source": [
    "### Load Dataset\n",
    "---\n",
    "\n",
    "Bing bong."
   ]
  },
  {
   "cell_type": "code",
   "execution_count": 13,
   "id": "073fe92c",
   "metadata": {},
   "outputs": [
    {
     "data": {
      "text/html": [
       "<div>\n",
       "<style scoped>\n",
       "    .dataframe tbody tr th:only-of-type {\n",
       "        vertical-align: middle;\n",
       "    }\n",
       "\n",
       "    .dataframe tbody tr th {\n",
       "        vertical-align: top;\n",
       "    }\n",
       "\n",
       "    .dataframe thead th {\n",
       "        text-align: right;\n",
       "    }\n",
       "</style>\n",
       "<table border=\"1\" class=\"dataframe\">\n",
       "  <thead>\n",
       "    <tr style=\"text-align: right;\">\n",
       "      <th></th>\n",
       "      <th>team_event_id</th>\n",
       "      <th>x</th>\n",
       "      <th>y</th>\n",
       "      <th>ht_home</th>\n",
       "      <th>ht_away</th>\n",
       "      <th>ft_home</th>\n",
       "      <th>ft_away</th>\n",
       "    </tr>\n",
       "  </thead>\n",
       "  <tbody>\n",
       "    <tr>\n",
       "      <th>0</th>\n",
       "      <td>2512081</td>\n",
       "      <td>3.304210</td>\n",
       "      <td>-2.097264</td>\n",
       "      <td>0.0</td>\n",
       "      <td>1.0</td>\n",
       "      <td>0.0</td>\n",
       "      <td>3.0</td>\n",
       "    </tr>\n",
       "    <tr>\n",
       "      <th>1</th>\n",
       "      <td>2512082</td>\n",
       "      <td>2.787051</td>\n",
       "      <td>-1.014194</td>\n",
       "      <td>0.0</td>\n",
       "      <td>0.0</td>\n",
       "      <td>1.0</td>\n",
       "      <td>0.0</td>\n",
       "    </tr>\n",
       "    <tr>\n",
       "      <th>2</th>\n",
       "      <td>2512083</td>\n",
       "      <td>2.443578</td>\n",
       "      <td>1.181806</td>\n",
       "      <td>0.0</td>\n",
       "      <td>1.0</td>\n",
       "      <td>0.0</td>\n",
       "      <td>2.0</td>\n",
       "    </tr>\n",
       "    <tr>\n",
       "      <th>3</th>\n",
       "      <td>2512084</td>\n",
       "      <td>2.254428</td>\n",
       "      <td>0.206387</td>\n",
       "      <td>0.0</td>\n",
       "      <td>0.0</td>\n",
       "      <td>0.0</td>\n",
       "      <td>2.0</td>\n",
       "    </tr>\n",
       "    <tr>\n",
       "      <th>4</th>\n",
       "      <td>2512088</td>\n",
       "      <td>3.168832</td>\n",
       "      <td>1.591534</td>\n",
       "      <td>2.0</td>\n",
       "      <td>0.0</td>\n",
       "      <td>2.0</td>\n",
       "      <td>1.0</td>\n",
       "    </tr>\n",
       "  </tbody>\n",
       "</table>\n",
       "</div>"
      ],
      "text/plain": [
       "   team_event_id         x         y  ht_home  ht_away  ft_home  ft_away\n",
       "0        2512081  3.304210 -2.097264      0.0      1.0      0.0      3.0\n",
       "1        2512082  2.787051 -1.014194      0.0      0.0      1.0      0.0\n",
       "2        2512083  2.443578  1.181806      0.0      1.0      0.0      2.0\n",
       "3        2512084  2.254428  0.206387      0.0      0.0      0.0      2.0\n",
       "4        2512088  3.168832  1.591534      2.0      0.0      2.0      1.0"
      ]
     },
     "execution_count": 13,
     "metadata": {},
     "output_type": "execute_result"
    }
   ],
   "source": [
    "data = pd.read_csv(\"data/dataset.csv\", index_col=0)\n",
    "data.head()"
   ]
  },
  {
   "attachments": {},
   "cell_type": "markdown",
   "id": "bd8c577c",
   "metadata": {},
   "source": [
    "### Visualise Dataset and Remove Outliers\n",
    "---\n",
    "\n",
    "First, let's count the number of NaN values in the dataset and see what proprtion of the total dataset they represent."
   ]
  },
  {
   "cell_type": "code",
   "execution_count": 4,
   "id": "fba1c4cb",
   "metadata": {},
   "outputs": [
    {
     "name": "stdout",
     "output_type": "stream",
     "text": [
      "NaN proportion: 0.00023\n"
     ]
    }
   ],
   "source": [
    "num_data = data.shape[0]\n",
    "num_nans = data.isnull().values.sum()\n",
    "print(f\"NaN proportion: {num_nans / num_data :.5f}\")"
   ]
  },
  {
   "attachments": {},
   "cell_type": "markdown",
   "id": "ea54c16c",
   "metadata": {},
   "source": [
    "Since the NaN values represent a small subset of the total datapoints, let's just drop them from the dataset."
   ]
  },
  {
   "cell_type": "code",
   "execution_count": 5,
   "id": "1f48ce16",
   "metadata": {},
   "outputs": [],
   "source": [
    "data = data.dropna()"
   ]
  },
  {
   "attachments": {},
   "cell_type": "markdown",
   "id": "e7cc829d",
   "metadata": {},
   "source": [
    "Now let's impose some constraints on the possible values of goals scored. Goals must be non-negative, and while the theoretical maximum number of goals possible to score in a 90 minute match is probably somewhere in the hundreds or thousands, the practical limit is much lower. A quick Google search tells us that the highest-scoring Premier League match of all-time was an 11-goal matchup between Portsmouth and Reading in 2007 with a final score of 7-4. We don't know if the dataset we have is for professional or amateur matches, but it's likely that there is higher variance in the final scores of amateur matches, so let's cap our goals scored at 15."
   ]
  },
  {
   "cell_type": "code",
   "execution_count": 6,
   "id": "436abd51",
   "metadata": {},
   "outputs": [],
   "source": [
    "data = data.drop(data[(data[\"ft_home\"] < 0) | (data[\"ft_home\"] > 15)].index)\n",
    "data = data.drop(data[(data[\"ft_away\"] < 0) | (data[\"ft_away\"] > 15)].index)"
   ]
  },
  {
   "attachments": {},
   "cell_type": "markdown",
   "id": "efed3fe5",
   "metadata": {},
   "source": [
    "It's difficult to impose constraints on our mystery features x and y since we don't know what they are. So for now, let's just plot some histograms of the continuous features x and y and bar charts of our count-valued targets ft_home and ft_away."
   ]
  },
  {
   "cell_type": "code",
   "execution_count": 7,
   "id": "4ca022bc",
   "metadata": {},
   "outputs": [
    {
     "data": {
      "image/png": "[encoded data removed]",
      "text/plain": [
       "<Figure size 800x600 with 4 Axes>"
      ]
     },
     "metadata": {},
     "output_type": "display_data"
    }
   ],
   "source": [
    "fig = plot_feature_distributions(data, figsize=(8, 6))\n",
    "plt.show()"
   ]
  },
  {
   "attachments": {},
   "cell_type": "markdown",
   "id": "04c1c27a",
   "metadata": {},
   "source": [
    "Overall, the distributions above look pretty sensible and there are no glaring outliers :)\n",
    "\n",
    "### Design Decision -- Single or Multi-Output Regression\n",
    "---\n",
    "\n",
    "One key modelling decision we need to make is whether to model the home and away scores separately, or create a joint model. Multi-output regression is more complicated to implement than single-output regression, but if there is strong covariance between the home and away scores, it is important to capture this in our model. We can do a quick check by computing the Pearson correlation coefficient between home and away scores."
   ]
  },
  {
   "cell_type": "code",
   "execution_count": 9,
   "id": "1a170876",
   "metadata": {},
   "outputs": [
    {
     "name": "stdout",
     "output_type": "stream",
     "text": [
      "Correlation between home and away scores: -0.09048\n"
     ]
    }
   ],
   "source": [
    "corr = np.corrcoef(data[\"ft_home\"], data[\"ft_away\"])\n",
    "print(f\"Correlation between home and away scores: {corr[0][1]:.5f}\")"
   ]
  },
  {
   "attachments": {},
   "cell_type": "markdown",
   "id": "3a1450ac",
   "metadata": {},
   "source": [
    "This is a very low correlation coefficient. The fact that home and away scores are weakly correlated makes sense intuitively, as there is no obvious reason why if one team scores many goals the other should be more or less likely to also score many goals. As such, we will go ahead and model the home and away scores separately.\n",
    "\n",
    "### Partition Training and Test Data\n",
    "---\n",
    "\n",
    "The last thing to do before setting up our model(s) is to split our dataset into a training and test set. Let's shuffle the dataset and do a 70/30 train/test split."
   ]
  },
  {
   "cell_type": "code",
   "execution_count": 55,
   "id": "d546ccc9",
   "metadata": {},
   "outputs": [],
   "source": [
    "# 70/30 random split\n",
    "train_proportion = 0.7\n",
    "train_mask = np.random.rand(len(data)) < train_proportion\n",
    "data_train = data[train_mask]\n",
    "data_test = data[~train_mask]\n",
    "\n",
    "# Extract training features + labels\n",
    "features_train = data_train[[\"x\", \"y\"]].values\n",
    "home_score_train = data_train[[\"ft_home\"]].values\n",
    "away_score_train = data_train[[\"ft_away\"]].values\n",
    "\n",
    "# Extract test features and labels\n",
    "features_test = data_test[[\"x\", \"y\"]].values\n",
    "home_score_test = data_test[[\"ft_home\"]].values\n",
    "away_score_test = data_test[[\"ft_away\"]].values"
   ]
  },
  {
   "attachments": {},
   "cell_type": "markdown",
   "id": "d62116c5",
   "metadata": {},
   "source": [
    "### Create Home Score Model\n",
    "---\n",
    "\n",
    "Bing bong."
   ]
  },
  {
   "cell_type": "code",
   "execution_count": 56,
   "id": "df1a7754",
   "metadata": {},
   "outputs": [],
   "source": [
    "M = 50\n",
    "N = features_train.shape[0]\n",
    "D = features_train.shape[1]\n",
    "\n",
    "likelihood = Poisson()\n",
    "\n",
    "kernel = Matern52(D)\n",
    "\n",
    "inducing_variables = features_train[:M, :].copy()\n",
    "\n",
    "home_score_model = SVGP(\n",
    "    kernel=kernel,\n",
    "    likelihood=likelihood,\n",
    "    inducing_variable=inducing_variables,\n",
    "    num_data=N,\n",
    ")\n"
   ]
  },
  {
   "cell_type": "code",
   "execution_count": 62,
   "id": "647fef3e",
   "metadata": {},
   "outputs": [
    {
     "data": {
      "text/plain": [
       "  message: ABNORMAL_TERMINATION_IN_LNSRCH\n",
       "  success: False\n",
       "   status: 2\n",
       "      fun: nan\n",
       "        x: [       nan        nan ...        nan        nan]\n",
       "      nit: 0\n",
       "      jac: [       nan        nan ...        nan        nan]\n",
       "     nfev: 22\n",
       "     njev: 22\n",
       " hess_inv: <1427x1427 LbfgsInvHessProduct with dtype=float64>"
      ]
     },
     "execution_count": 62,
     "metadata": {},
     "output_type": "execute_result"
    }
   ],
   "source": [
    "optimizer = Scipy()\n",
    "loss = home_score_model.training_loss_closure((features_train, home_score_train))\n",
    "params = home_score_model.trainable_variables\n",
    "optimizer.minimize(loss, params)\n",
    "\n",
    "\n",
    "# gpf.utilities.print_summary(home_score_model, \"notebook\")\n",
    "\n",
    "\n",
    "# minibatch_size = 100\n",
    "# elbo = tf.function(home_score_model.elbo)\n",
    "\n",
    "# # TensorFlow re-traces & compiles a `tf.function`-wrapped method at *every* call if the arguments are numpy arrays instead of tf.Tensors. Hence:\n",
    "# tensor_data = tuple(map(tf.convert_to_tensor, (features_train, home_score_train)))\n",
    "# elbo(tensor_data)  # run it once to trace & compile\n",
    "\n",
    "# # train_dataset = tf.data.Dataset.from_tensor_slices((X, Y)).repeat().shuffle(N)\n",
    "\n",
    "# # train_iter = iter(train_dataset.batch(minibatch_size))\n",
    "\n",
    "# # ground_truth = elbo(tensor_data).numpy()"
   ]
  },
  {
   "attachments": {},
   "cell_type": "markdown",
   "id": "bab5e95a",
   "metadata": {},
   "source": [
    "### Plot Predictions\n",
    "---\n",
    "\n",
    "Bing bong."
   ]
  },
  {
   "cell_type": "code",
   "execution_count": null,
   "id": "801b680a",
   "metadata": {},
   "outputs": [],
   "source": []
  },
  {
   "cell_type": "markdown",
   "id": "026beb95",
   "metadata": {},
   "source": [
    "The data:\n",
    "\n",
    "- `team_event_id`: This is a unique identifier for a single football match\n",
    "- `x` and `y`: Features we've collected about the football match\n",
    "- `ht/ft_home/away`: These are the observed halftime (ht) and fulltime (ft) scores for the home and away teams respectively\n",
    "\n",
    "The challenge:\n",
    "\n",
    "We'd like you to use this dataset to build a model that can estimate the probabilities of fulltime scores of both teams using the mystery `x` and `y` features.  The type of model is completely up to you, but please try to justify your choices in jupyter markdown cells or code comments, and briefly discuss drawbacks of the model and improvements that could be made. Feel free to use any standard pip installable modelling package you are comfortable with.\n",
    "\n",
    "The data may contain some outliers or mistakes so we recommend visualising the data to get a good understanding of what is going on :)"
   ]
  }
 ],
 "metadata": {
  "kernelspec": {
   "display_name": "env",
   "language": "python",
   "name": "env"
  },
  "language_info": {
   "codemirror_mode": {
    "name": "ipython",
    "version": 3
   },
   "file_extension": ".py",
   "mimetype": "text/x-python",
   "name": "python",
   "nbconvert_exporter": "python",
   "pygments_lexer": "ipython3",
   "version": "3.10.9"
  },
  "vscode": {
   "interpreter": {
    "hash": "f4c581c259332824c89a434e460aa38a7d297a6bedf9e5de2a045e1d376eec05"
   }
  }
 },
 "nbformat": 4,
 "nbformat_minor": 5
}
